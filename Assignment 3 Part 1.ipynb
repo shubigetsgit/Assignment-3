{
 "cells": [
  {
   "cell_type": "code",
   "execution_count": 1,
   "id": "54eb7a43",
   "metadata": {},
   "outputs": [
    {
     "data": {
      "text/plain": [
       "20"
      ]
     },
     "execution_count": 1,
     "metadata": {},
     "output_type": "execute_result"
    }
   ],
   "source": [
    "sample_list = [8, 2, 3, 0, 7]\n",
    "def summation (my_list):\n",
    "    sum = 0\n",
    "    for i in my_list:\n",
    "        sum+=i\n",
    "    return sum \n",
    "  \n",
    "        \n",
    "summation (sample_list)\n"
   ]
  },
  {
   "cell_type": "code",
   "execution_count": null,
   "id": "cfdf8916",
   "metadata": {},
   "outputs": [],
   "source": []
  }
 ],
 "metadata": {
  "kernelspec": {
   "display_name": "Python 3 (ipykernel)",
   "language": "python",
   "name": "python3"
  },
  "language_info": {
   "codemirror_mode": {
    "name": "ipython",
    "version": 3
   },
   "file_extension": ".py",
   "mimetype": "text/x-python",
   "name": "python",
   "nbconvert_exporter": "python",
   "pygments_lexer": "ipython3",
   "version": "3.10.6"
  }
 },
 "nbformat": 4,
 "nbformat_minor": 5
}
